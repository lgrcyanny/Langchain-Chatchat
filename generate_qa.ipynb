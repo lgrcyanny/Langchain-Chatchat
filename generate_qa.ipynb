{
 "cells": [
  {
   "cell_type": "code",
   "execution_count": null,
   "metadata": {},
   "outputs": [],
   "source": [
    "#http://10.180.98.137:5861/docs#/Chat/knowledge_base_chat_chat_knowledge_base_chat_post"
   ]
  },
  {
   "cell_type": "code",
   "execution_count": 2,
   "metadata": {},
   "outputs": [],
   "source": [
    "filename = \"data/question.txt\"\n",
    "with open(filename) as file:\n",
    "    lines = [line.strip() for line in file]"
   ]
  },
  {
   "cell_type": "code",
   "execution_count": 17,
   "metadata": {},
   "outputs": [],
   "source": [
    "import requests\n",
    "import json\n",
    "def make_request(question):\n",
    "    print(question)\n",
    "    url = \"http://10.180.98.137:5861/chat/knowledge_base_chat\"\n",
    "    payload = {\n",
    "    \"query\": question,\n",
    "    \"knowledge_base_name\": \"chatbook\",\n",
    "    \"top_k\": 10,\n",
    "    \"score_threshold\": 0.5,\n",
    "    \"history\": [],\n",
    "    \"stream\": False,\n",
    "    \"model_name\": \"chatglm3-6b\",\n",
    "    \"temperature\": 0.7,\n",
    "    \"prompt_name\": \"knowledge_base_chat\",\n",
    "    \"local_doc_url\": False\n",
    "    }\n",
    "    headers = {'Content-type': 'application/json', 'Accept': 'application/json'}\n",
    "    response = requests.post(url, data=json.dumps(payload), headers=headers)\n",
    "    return response.json()"
   ]
  },
  {
   "cell_type": "code",
   "execution_count": 19,
   "metadata": {},
   "outputs": [],
   "source": [
    "output_file = \"./data/romaqa.txt\"\n",
    "with open(output_file, \"w\") as f:\n",
    "    for line in lines[0:3]:\n",
    "        response = make_request(line)\n",
    "        f.writelines([line, response[\"answer\"]])\n",
    "        f.writelines(\"\\n\")"
   ]
  },
  {
   "cell_type": "code",
   "execution_count": 18,
   "metadata": {},
   "outputs": [
    {
     "data": {
      "text/plain": [
       "{'answer': '罗马军队的编制分为4级，最小单位是百人队，2个百人队组成1个中队，3个中队组成1个大队，10个大队组成1个军团。军团为最大编制，约6000人。此外，罗马军队的编制还包括其他人员，如医疗队和工程师等。军团的骑兵编成10个中队，整个编成一个骑兵团。',\n",
       " 'docs': ['出处 [1] [全译罗马帝国衰亡史全.epub](http://10.180.98.137:5861/knowledge_base/download_doc?knowledge_base_name=chatbook&file_name=%E5%85%A8%E8%AF%91%E7%BD%97%E9%A9%AC%E5%B8%9D%E5%9B%BD%E8%A1%B0%E4%BA%A1%E5%8F%B2%E5%85%A8.epub) \\n\\n五、罗马帝国的部队编组\\n\\n',\n",
       "  '出处 [2] [全译罗马帝国衰亡史全.epub](http://10.180.98.137:5861/knowledge_base/download_doc?knowledge_base_name=chatbook&file_name=%E5%85%A8%E8%AF%91%E7%BD%97%E9%A9%AC%E5%B8%9D%E5%9B%BD%E8%A1%B0%E4%BA%A1%E5%8F%B2%E5%85%A8.epub) \\n\\n五、罗马帝国的部队编组\\n\\n',\n",
       "  '出处 [3] [罗马十二帝王传.epub](http://10.180.98.137:5861/knowledge_base/download_doc?knowledge_base_name=chatbook&file_name=%E7%BD%97%E9%A9%AC%E5%8D%81%E4%BA%8C%E5%B8%9D%E7%8E%8B%E4%BC%A0.epub) \\n\\n[69]\\r\\n 罗马军队编制分4级。最小单位是百人队（centuria），2个百人队组成1个中队（manipulus），3个中队组成1个大队（cohors），10个大队组成1个军团（legio）。军团为最大编制，约6000人。\\n\\n',\n",
       "  '出处 [4] [罗马人的故事.epub](http://10.180.98.137:5861/knowledge_base/download_doc?knowledge_base_name=chatbook&file_name=%E7%BD%97%E9%A9%AC%E4%BA%BA%E7%9A%84%E6%95%85%E4%BA%8B.epub) \\n\\n不过，罗马军团的编制还包括其他人员。因此，军团调遣时，战斗人员以外的人和车也会随之一同行动。首先是医疗队。除了救护伤病员的医生和护士外，罗马军团还配备给牛马等治病的兽医。其次是军团里的工程师。这些人相当于工兵队长，但是除了当助手的人之外，并没有专门的工兵队员。罗马军团的特色是，不仅军团兵是熟练的修路工人，还包括辅助兵在内的所有士兵都是“工兵”。甚至有人说：“罗马军队是靠丁字镐取胜的。”\\n\\n',\n",
       "  '出处 [5] [全译罗马帝国衰亡史全.epub](http://10.180.98.137:5861/knowledge_base/download_doc?knowledge_base_name=chatbook&file_name=%E5%85%A8%E8%AF%91%E7%BD%97%E9%A9%AC%E5%B8%9D%E5%9B%BD%E8%A1%B0%E4%BA%A1%E5%8F%B2%E5%85%A8.epub) \\n\\n下文与(五、罗马帝国的部队编组)有关。军团的骑兵编成10个中队，这是整体战力不可或缺的部分。如同第一支队的状况那样，骑兵第一中队有132人，其余9个中队各有66人。这10个中队共有726人，整个编成一个骑兵团。虽然隶属于军团，但作战时，却分开运用，通常单独或几个骑兵团集结构成一个侧翼。\\r\\n[33]\\r\\n\\r\\n 皇帝的骑兵不同于过去的共和时代，是由罗马和意大利的世家子弟组成。他们马背上的军队资历，是进入元老院担任议员和执政官的阶梯，只要凭着自己的英勇建立功勋，有朝一日就可以赢得同胞的选票。自从风气变迁和朝代更替以后，骑士阶级\\n\\n',\n",
       "  '出处 [6] [全译罗马帝国衰亡史全.epub](http://10.180.98.137:5861/knowledge_base/download_doc?knowledge_base_name=chatbook&file_name=%E5%85%A8%E8%AF%91%E7%BD%97%E9%A9%AC%E5%B8%9D%E5%9B%BD%E8%A1%B0%E4%BA%A1%E5%8F%B2%E5%85%A8.epub) \\n\\n下文与(五、罗马帝国的部队编组)有关。军团的骑兵编成10个中队，这是整体战力不可或缺的部分。如同第一支队的状况那样，骑兵第一中队有132人，其余9个中队各有66人。这10个中队共有726人，整个编成一个骑兵团。虽然隶属于军团，但作战时，却分开运用，通常单独或几个骑兵团集结构成一个侧翼。\\r\\n[33]\\r\\n\\r\\n 皇帝的骑兵不同于过去的共和时代，是由罗马和意大利的世家子弟组成。他们马背上的军队资历，是进入元老院担任议员和执政官的阶梯，只要凭着自己的英勇建立功勋，有朝一日就可以赢得同胞的选票。自从风气变迁和朝代更替以后，骑士阶级\\n\\n',\n",
       "  '出处 [7] [全译罗马帝国衰亡史全.epub](http://10.180.98.137:5861/knowledge_base/download_doc?knowledge_base_name=chatbook&file_name=%E5%85%A8%E8%AF%91%E7%BD%97%E9%A9%AC%E5%B8%9D%E5%9B%BD%E8%A1%B0%E4%BA%A1%E5%8F%B2%E5%85%A8.epub) \\n\\n下文与(五、罗马帝国的部队编组)有关。[38]\\r\\n\\r\\n 协防军当中最勇敢和最忠诚的队伍，接受郡守\\r\\n[39]\\r\\n\\r\\n 和百夫长直接指挥，遵从罗马纪律，接受严格训练；但大部分人员，还是按照乡土特性和早年的生活习惯，使用适合自己的武器。这种制度使每个军团配属定额的协防军，包括各种类型的轻装部队和投射兵器，优点是有各自的装备和训练，有利于在不同国度参加战斗。从现代军事的角度看，罗马军团并不缺少一支所谓的“炮兵纵列”，包括10部大型和55部小型投射机具，无论倾斜式或水平式，都能发射出破坏力惊人的石块和标枪。\\n\\n',\n",
       "  '出处 [8] [全译罗马帝国衰亡史全.epub](http://10.180.98.137:5861/knowledge_base/download_doc?knowledge_base_name=chatbook&file_name=%E5%85%A8%E8%AF%91%E7%BD%97%E9%A9%AC%E5%B8%9D%E5%9B%BD%E8%A1%B0%E4%BA%A1%E5%8F%B2%E5%85%A8.epub) \\n\\n下文与(五、罗马帝国的部队编组)有关。[38]\\r\\n\\r\\n 协防军当中最勇敢和最忠诚的队伍，接受郡守\\r\\n[39]\\r\\n\\r\\n 和百夫长直接指挥，遵从罗马纪律，接受严格训练；但大部分人员，还是按照乡土特性和早年的生活习惯，使用适合自己的武器。这种制度使每个军团配属定额的协防军，包括各种类型的轻装部队和投射兵器，优点是有各自的装备和训练，有利于在不同国度参加战斗。从现代军事的角度看，罗马军团并不缺少一支所谓的“炮兵纵列”，包括10部大型和55部小型投射机具，无论倾斜式或水平式，都能发射出破坏力惊人的石块和标枪。\\n\\n',\n",
       "  '出处 [9] [罗马人的故事.epub](http://10.180.98.137:5861/knowledge_base/download_doc?knowledge_base_name=chatbook&file_name=%E7%BD%97%E9%A9%AC%E4%BA%BA%E7%9A%84%E6%95%85%E4%BA%8B.epub) \\n\\n下文与(我有一张名为“ROMA)有关。第三，即使是普通士兵，只要有能力或取得了某项成绩，就可以打开通往百人队队长或骑兵的道路。正如同塞维鲁的那些帝位争夺者所经历过的那样，在罗马军团里通过努力可以做到步步高升。不过这种情况虽然不少见，但只有出类拔萃或鸿运当头的人才有望获得这种机会，并没有制度化。现在塞维鲁将其形成制度，编入罗马的军事管理体系里。\\n\\n罗马帝国的军事力量及部署变化（单位：军团）\\n\\n每个军团包括：\\n\\nLegionaris（军团兵）——主力（6000人）\\n\\n',\n",
       "  '出处 [10] [罗马人的故事.epub](http://10.180.98.137:5861/knowledge_base/download_doc?knowledge_base_name=chatbook&file_name=%E7%BD%97%E9%A9%AC%E4%BA%BA%E7%9A%84%E6%95%85%E4%BA%8B.epub) \\n\\n普遍认为罗马军团等于重装步兵。事实上，罗马军的主力就是重装步兵，由罗马市民中，出身上、中流阶级的人们组成。在资产调查中，第一、第二、第三阶级出身的人全部编入重装步兵。属于第四阶级的人有时候也会被编入重装步兵。\\n\\n分前后三排横队作战的为常规战术的罗马军重装步兵，又分为以下三种：\\n\\n第一排横队是最前面的“新兵”，由年龄17岁以上、缺乏战斗经验的年轻市民组成。士兵数为2400人。\\n\\n']}"
      ]
     },
     "execution_count": 18,
     "metadata": {},
     "output_type": "execute_result"
    }
   ],
   "source": [
    "make_request(lines[1])"
   ]
  },
  {
   "cell_type": "code",
   "execution_count": null,
   "metadata": {},
   "outputs": [],
   "source": []
  }
 ],
 "metadata": {
  "kernelspec": {
   "display_name": "glm-env",
   "language": "python",
   "name": "python3"
  },
  "language_info": {
   "codemirror_mode": {
    "name": "ipython",
    "version": 3
   },
   "file_extension": ".py",
   "mimetype": "text/x-python",
   "name": "python",
   "nbconvert_exporter": "python",
   "pygments_lexer": "ipython3",
   "version": "3.10.0"
  }
 },
 "nbformat": 4,
 "nbformat_minor": 2
}
